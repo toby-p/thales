{
 "cells": [
  {
   "cell_type": "markdown",
   "metadata": {},
   "source": [
    "## How To Scrape Historical Stock Market Data From Alphavatange\n",
    "\n",
    "### First, sign up to get a free API key from <a href=https://www.alphavantage.co/support/#api-key>Alphavantage</a>:\n",
    "    \n",
    "Then register the API key in the package like so:"
   ]
  },
  {
   "cell_type": "code",
   "execution_count": 1,
   "metadata": {},
   "outputs": [],
   "source": [
    "import os \n",
    "import sys\n",
    "sys.path.append(os.path.dirname(os.getcwd()))\n",
    "\n",
    "from tradez.utils import save_credentials\n",
    "\n",
    "\n",
    "# Change the below variable to whatever your API key is:\n",
    "apikey = \"abcdefg1235\"\n",
    "\n",
    "# Run the below line to store your API key:\n",
    "save_credentials(source=\"alphavantage\", key=apikey)"
   ]
  },
  {
   "cell_type": "markdown",
   "metadata": {},
   "source": [
    "### Start scraping data:\n",
    "\n",
    "Simply pass stock symbols to the function `AlphaVantage.scrape`:"
   ]
  },
  {
   "cell_type": "code",
   "execution_count": 2,
   "metadata": {},
   "outputs": [
    {
     "name": "stdout",
     "output_type": "stream",
     "text": [
      "Scraping alphavantage:\n",
      "- AAPL: ✔ 5,032 datapoints                                    \n",
      "- AMZN: ✔ 5,032 datapoints                                    \n"
     ]
    }
   ],
   "source": [
    "from tradez.scrapers.alphavantage import AlphaVantage\n",
    "\n",
    "\n",
    "AlphaVantage.scrape(\"AAPL\", \"AMZN\")"
   ]
  },
  {
   "cell_type": "markdown",
   "metadata": {},
   "source": [
    "### S&P500\n",
    "\n",
    "Alternatively, you can run the following lines to register the entire S&P500 as target symbols, and then call `AlphaVantage.scrape` without any arguments to start the program scraping every stock currently in the S&P:"
   ]
  },
  {
   "cell_type": "code",
   "execution_count": null,
   "metadata": {},
   "outputs": [],
   "source": [
    "from tradez.symbols import add_sp500\n",
    "\n",
    "\n",
    "add_sp500()\n",
    "AlphaVantage.scrape()"
   ]
  }
 ],
 "metadata": {
  "kernelspec": {
   "display_name": "Python 3",
   "language": "python",
   "name": "python3"
  },
  "language_info": {
   "codemirror_mode": {
    "name": "ipython",
    "version": 3
   },
   "file_extension": ".py",
   "mimetype": "text/x-python",
   "name": "python",
   "nbconvert_exporter": "python",
   "pygments_lexer": "ipython3",
   "version": "3.6.2"
  }
 },
 "nbformat": 4,
 "nbformat_minor": 2
}
