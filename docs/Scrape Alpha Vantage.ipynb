{
 "cells": [
  {
   "cell_type": "code",
   "execution_count": 1,
   "metadata": {},
   "outputs": [],
   "source": [
    "# Set up path to allow imports from package:\n",
    "import os \n",
    "import sys\n",
    "sys.path.append(os.path.dirname(os.getcwd()))"
   ]
  },
  {
   "cell_type": "markdown",
   "metadata": {},
   "source": [
    "## How To Scrape Historical Stock Market Data From Alpha Vantage\n",
    "\n",
    "### First, sign up to get a free API key from <a href=https://www.alphavantage.co/support/#api-key>Alpha Vantage</a>\n",
    "    \n",
    "Then register the API key in the package like so:"
   ]
  },
  {
   "cell_type": "code",
   "execution_count": 2,
   "metadata": {},
   "outputs": [],
   "source": [
    "from thales.config.credentials import save_credentials\n",
    "\n",
    "# Change the below variable to whatever your API key is:\n",
    "apikey = \"abcdefg1235\"\n",
    "\n",
    "# Run the below line to store your API key:\n",
    "save_credentials(src=\"alphavantage\", key=apikey)"
   ]
  },
  {
   "cell_type": "markdown",
   "metadata": {},
   "source": [
    "### Start scraping data:\n",
    "\n",
    "Simply pass stock symbols to the function `AlphaVantage.scrape`:"
   ]
  },
  {
   "cell_type": "code",
   "execution_count": 3,
   "metadata": {},
   "outputs": [
    {
     "name": "stdout",
     "output_type": "stream",
     "text": [
      "Scraping alphavantage:\n",
      "- AMZN: ✔ 5,216 datapoints                                    \n",
      "- AAPL: ✔ 5,216 datapoints                                    \n"
     ]
    }
   ],
   "source": [
    "from thales.scrapers.alphavantage import AlphaVantage\n",
    "\n",
    "\n",
    "AlphaVantage.scrape(\"AAPL\", \"AMZN\")"
   ]
  },
  {
   "cell_type": "markdown",
   "metadata": {},
   "source": [
    "### S&P500\n",
    "\n",
    "Alternatively, you can run the following lines to register the entire S&P500 as target symbols, and then call `AlphaVantage.scrape` without any arguments to start the program scraping every stock currently in the S&P:"
   ]
  },
  {
   "cell_type": "code",
   "execution_count": null,
   "metadata": {},
   "outputs": [],
   "source": [
    "AlphaVantage.Symbols.add_sp500()\n",
    "AlphaVantage.scrape()"
   ]
  }
 ],
 "metadata": {
  "kernelspec": {
   "display_name": "Python 3",
   "language": "python",
   "name": "python3"
  },
  "language_info": {
   "codemirror_mode": {
    "name": "ipython",
    "version": 3
   },
   "file_extension": ".py",
   "mimetype": "text/x-python",
   "name": "python",
   "nbconvert_exporter": "python",
   "pygments_lexer": "ipython3",
   "version": "3.7.4"
  }
 },
 "nbformat": 4,
 "nbformat_minor": 2
}
