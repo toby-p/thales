{
 "cells": [
  {
   "cell_type": "code",
   "execution_count": null,
   "metadata": {},
   "outputs": [],
   "source": [
    "# Set up path to allow imports from package:\n",
    "import os \n",
    "import sys\n",
    "sys.path.append(os.path.dirname(os.getcwd()))"
   ]
  },
  {
   "cell_type": "markdown",
   "metadata": {},
   "source": [
    "## How To Scrape Historical Stock Market Data From Alpha Vantage\n",
    "\n",
    "### First, sign up to get a free API key from <a href=https://www.alphavantage.co/support/#api-key>Alpha Vantage</a>\n",
    "    \n",
    "Then register the API key in the package like so:"
   ]
  },
  {
   "cell_type": "code",
   "execution_count": null,
   "metadata": {},
   "outputs": [],
   "source": [
    "from thales.config.credentials import save_credentials\n",
    "\n",
    "# Change the below variable to whatever your API key is:\n",
    "api_key = \"abcdefg1235\"\n",
    "\n",
    "# Run the below line to store your API key:\n",
    "save_credentials(src=\"alphavantage\", key=api_key)"
   ]
  },
  {
   "cell_type": "markdown",
   "metadata": {},
   "source": [
    "You can check the API key has saved correctly:"
   ]
  },
  {
   "cell_type": "code",
   "execution_count": null,
   "metadata": {},
   "outputs": [],
   "source": [
    "from thales.config.credentials import get_credentials\n",
    "\n",
    "get_credentials(\"alphavantage\")"
   ]
  },
  {
   "cell_type": "markdown",
   "metadata": {},
   "source": [
    "### Test on a single stock:"
   ]
  },
  {
   "cell_type": "code",
   "execution_count": null,
   "metadata": {},
   "outputs": [],
   "source": [
    "from thales.scrapers.alphavantage.stocks import AlphaVantageStocks\n",
    "\n",
    "self = AlphaVantageStocks()\n",
    "stock = \"AAPL\"\n",
    "self.scrape(stock)"
   ]
  },
  {
   "cell_type": "markdown",
   "metadata": {},
   "source": [
    "### Scrape multiple stocks:\n",
    "\n",
    "Simply pass stock symbols to the `scrape` method:"
   ]
  },
  {
   "cell_type": "code",
   "execution_count": null,
   "metadata": {},
   "outputs": [],
   "source": [
    "self.scrape(\"MSFT\", \"AMZN\")"
   ]
  },
  {
   "cell_type": "markdown",
   "metadata": {},
   "source": [
    "### S&P500\n",
    "\n",
    "Run the following lines to register the entire S&P500 as target symbols, and then call `scrape` without arguments to start the program scraping every stock currently in the S&P:"
   ]
  },
  {
   "cell_type": "code",
   "execution_count": null,
   "metadata": {},
   "outputs": [],
   "source": [
    "self.Symbols.add_sp500()\n",
    "self.scrape()"
   ]
  }
 ],
 "metadata": {
  "kernelspec": {
   "display_name": "Python 3",
   "language": "python",
   "name": "python3"
  },
  "language_info": {
   "codemirror_mode": {
    "name": "ipython",
    "version": 3
   },
   "file_extension": ".py",
   "mimetype": "text/x-python",
   "name": "python",
   "nbconvert_exporter": "python",
   "pygments_lexer": "ipython3",
   "version": "3.6.2"
  }
 },
 "nbformat": 4,
 "nbformat_minor": 2
}
